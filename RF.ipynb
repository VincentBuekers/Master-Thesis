{
 "cells": [
  {
   "cell_type": "markdown",
   "metadata": {},
   "source": [
    "# A Support Vector Machine Embedded Random Forest Model\n",
    "## Vincent Buekers\n",
    "All credit should go to github user malharjdhv1998 (https://github.com/malharjdhv1998/bernoulli-random-forest/blob/master/BRF_Random_forest.py) for the implementation of the Bernouilli random forest (BRF) as described in Wang (2017).\n",
    "\n",
    "I changed the following aspects of the BRF specification:\n",
    "* embed SVMs in leaf nodes\n",
    "* attribute selection mechanism from binomial to uniform\n",
    "* parallel computing across trees and chunks\n",
    "* (added comments to improve readability)"
   ]
  },
  {
   "cell_type": "code",
   "execution_count": null,
   "metadata": {},
   "outputs": [],
   "source": [
    "from sklearn import datasets\n",
    "import numpy as np\n",
    "import math\n",
    "import random"
   ]
  },
  {
   "cell_type": "markdown",
   "metadata": {},
   "source": [
    "## Set parameters"
   ]
  },
  {
   "cell_type": "code",
   "execution_count": 7,
   "metadata": {},
   "outputs": [],
   "source": [
    "# ratio of structure / estimation points\n",
    "ratio=0.5\n",
    "# ratio of train and test set split\n",
    "ratio2=0.8\n",
    "\n",
    "# Binomial probabilities\n",
    "p1=0.5 \n",
    "p2=0.5\n",
    "\n",
    "# estimation points to retain in leaf node\n",
    "min_num_sample=4\n",
    "\n",
    "# Trees in Random Forest\n",
    "trees=100"
   ]
  },
  {
   "cell_type": "markdown",
   "metadata": {},
   "source": [
    "## Load in data"
   ]
  },
  {
   "cell_type": "code",
   "execution_count": null,
   "metadata": {},
   "outputs": [],
   "source": [
    "x=datasets.load_iris()['data']\n",
    "y=datasets.load_iris()[\"target\"].reshape(-1,1)\n",
    "\n",
    "x=np.c_[x,y]\n",
    "np.random.shuffle(x)\n",
    "\n",
    "xt=x[0:int(ratio2*len(x))]       #data with known labels \n",
    "xu=x[int(ratio2*len(x)):len(x)]  #data with unknown labels\n",
    "#xu=np.delete(xu, -1, 1)"
   ]
  },
  {
   "cell_type": "markdown",
   "metadata": {},
   "source": [
    "## Partition observations into structure and estimation points"
   ]
  },
  {
   "cell_type": "code",
   "execution_count": 38,
   "metadata": {},
   "outputs": [],
   "source": [
    "def partition(x):\n",
    "    np.random.shuffle(x)\n",
    "    xs=x[0:int(ratio*len(x))]\n",
    "    xe=x[int(ratio*len(x)):len(x)]\n",
    "    return [xs,xe]"
   ]
  },
  {
   "cell_type": "markdown",
   "metadata": {},
   "source": [
    "## UNIFORM Attribute selection"
   ]
  },
  {
   "cell_type": "code",
   "execution_count": 39,
   "metadata": {},
   "outputs": [],
   "source": [
    "def attribute(x):\n",
    "    s=np.random.binomial(1, p1, 1)\n",
    "    if s==0:\n",
    "       # print(\"attribute 0\")\n",
    "        p=int(math.sqrt(x[0].shape[1]-1))\n",
    "        l=np.arange(x[0].shape[1]-1)\n",
    "        np.random.shuffle(l)\n",
    "        q=[]\n",
    "        for i in range(0,p):\n",
    "            q.append(l[i])\n",
    "        return q\n",
    "             \n",
    "    elif s==1:\n",
    "       # print(\"attribute 1\")\n",
    "       #print(x[0].shape)\n",
    "        l=np.arange(x[0].shape[1]-1)\n",
    "        np.random.shuffle(l)\n",
    "        q=[l[0]]\n",
    "        return q"
   ]
  },
  {
   "cell_type": "code",
   "execution_count": 40,
   "metadata": {},
   "outputs": [],
   "source": [
    "def unique(x):\n",
    "  \n",
    "    if len(x)!=0:\n",
    "        x=x[:,-1]\n",
    "        \n",
    "        x=x.reshape(-1,1)\n",
    "        \n",
    "        unique, counts = np.unique(x, return_counts=True)\n",
    "        \n",
    "        d=dict(zip(unique, counts))\n",
    "\n",
    "        return d\n",
    "\n",
    "    else:\n",
    "        d={}\n",
    "        d[0]=0\n",
    "        return d"
   ]
  },
  {
   "cell_type": "markdown",
   "metadata": {},
   "source": [
    "## Impurity Criterion"
   ]
  },
  {
   "cell_type": "code",
   "execution_count": 41,
   "metadata": {},
   "outputs": [],
   "source": [
    "def gini(x,s,m): #(DATA,sample number,attribute)\n",
    "\n",
    "    \n",
    "    a=unique(x[0])\n",
    "  \n",
    "   \n",
    "    q=0\n",
    "    for i in a:\n",
    "        q=q+(a[i])**2\n",
    "    g1=1-q\n",
    "    \n",
    "    xl=[]\n",
    "    xr=[]\n",
    "    for k in range(0,len(x[0])):\n",
    "        if x[0][k][m]<=x[0][s][m]:\n",
    "            xl.append(x[0][k])\n",
    "        elif x[0][k][m]>x[0][s][m]:\n",
    "            xr.append(x[0][k])\n",
    "    xl=np.array(xl)\n",
    "    xr=np.array(xr)\n",
    "    \n",
    "    xl1=[]\n",
    "    xr1=[]\n",
    "    for k in range(0,len(x[1])):\n",
    "        if x[1][k][m]<=x[0][s][m]:\n",
    "            xl1.append(x[1][k])\n",
    "        elif x[1][k][m]>x[0][s][m]:\n",
    "            xr1.append(x[1][k])\n",
    "    xl1=np.array(xl1)\n",
    "    xr1=np.array(xr1)\n",
    "#    print(\"x[0].shape\",x[0].shape)\n",
    "#    print(\"xl.shape\",xl.shape)\n",
    "#    print(\"xr.shape\",xr.shape)\n",
    "    b=unique(xl)\n",
    "    \n",
    "    q=0\n",
    "    for i in b:\n",
    "        q=q+(b[i])**2\n",
    "    g2=1-q\n",
    "    p=unique(xr)\n",
    "\n",
    "    q=0\n",
    "    for i in p:\n",
    "        q=q+(p[i])**2\n",
    "    g3=1-q\n",
    "    \n",
    "    c={}\n",
    "    c[\"score\"]=g1-(len(xl)/len(x[0]))*g2-(len(xr)/len(x[0]))*g3\n",
    "    c[\"groups\"]=[[xl,xr],[xl1,xr1]]\n",
    "    \n",
    "    \n",
    "    return c"
   ]
  },
  {
   "cell_type": "markdown",
   "metadata": {},
   "source": [
    "### Binomial distribution determining whether to use random sampling or impurity criterion to determine split"
   ]
  },
  {
   "cell_type": "code",
   "execution_count": 42,
   "metadata": {},
   "outputs": [],
   "source": [
    "def split(x):\n",
    "    s=np.random.binomial(1, p2, 1)\n",
    "    \n",
    "    if s==1:         #random sampling\n",
    "        # print(\"split 1\")\n",
    "       \n",
    "        m=attribute(x)\n",
    "        m=np.array(m)\n",
    "        np.random.shuffle(m)\n",
    "        \n",
    "        q=np.arange(x[0].shape[0])\n",
    "        np.random.shuffle(q)\n",
    "        \n",
    "        i=q[0]\n",
    "        j=m[0]\n",
    "        xl=[]\n",
    "        xr=[]\n",
    "        for k in range(0,len(x[0])):\n",
    "            if x[0][k][j]<=x[0][i][j]:\n",
    "                xl.append(x[0][k])\n",
    "            elif x[0][k][j]>x[0][i][j]:\n",
    "                xr.append(x[0][k])\n",
    "        xl=np.array(xl)\n",
    "        xr=np.array(xr)\n",
    "        \n",
    "        xl1=[]\n",
    "        xr1=[]\n",
    "        for k in range(0,len(x[1])):\n",
    "            if x[1][k][j]<=x[0][i][j]:\n",
    "                xl1.append(x[1][k])\n",
    "            elif x[1][k][j]>x[0][i][j]:\n",
    "                xr1.append(x[1][k])\n",
    "        xl1=np.array(xl1)\n",
    "        xr1=np.array(xr1)\n",
    "        \n",
    "                \n",
    "        d={}\n",
    "        \n",
    "        d[\"split point\"]=x[0][i][j]\n",
    "        d[\"feature_index\"]=j\n",
    "        d[\"group\"]=[[xl,xr],[xl1,xr1]]\n",
    "        \n",
    "        return d\n",
    "    \n",
    "    elif s==0:    #optimizing impurity\n",
    "       # print(\"split 0\")\n",
    "        m=attribute(x)\n",
    "        m=np.array(m)\n",
    "        G=[]\n",
    "        K=[]\n",
    "        for j in range(0,len(m)):\n",
    "            for i in range(0,len(x[0])):\n",
    "                \n",
    "                g=gini(x,i,m[j])\n",
    "                \n",
    "                G.append(g[\"score\"])\n",
    "                K.append([g,i,m[j]])\n",
    "      \n",
    "\n",
    "       \n",
    "        max_gini=min(G)\n",
    "        p=G.index(max_gini)\n",
    "     \n",
    "        l=K[p]\n",
    "        \n",
    "        d={}\n",
    "        \n",
    "        d[\"split point\"]=x[0][l[1],l[2]]\n",
    "        d[\"feature_index\"]=l[2]\n",
    "        d[\"group\"]=l[0][\"groups\"]\n",
    "        \n",
    "        \n",
    "       # print(len(d[\"group\"][0][0]),len(d[\"group\"][0][1]),len(d[\"group\"][1][0]),len(d[\"group\"][1][1]))\n",
    "        return d\n",
    "    "
   ]
  },
  {
   "cell_type": "markdown",
   "metadata": {},
   "source": [
    "## Leaf node"
   ]
  },
  {
   "cell_type": "code",
   "execution_count": 43,
   "metadata": {},
   "outputs": [],
   "source": [
    "def term(x): # terminal node\n",
    "   \n",
    "   \n",
    "    if len(x)!=0:\n",
    "        d=unique(x)\n",
    "        max=-1\n",
    "        for i in d:\n",
    "            if d[i]>=max:\n",
    "                max=d[i]\n",
    "                y=i\n",
    "                \n",
    "      \n",
    "        return y\n",
    "#    else:\n",
    "#        print(\"none encountered   lll\") ####HAS TO BE CHANGED\n",
    "#        return -1"
   ]
  },
  {
   "cell_type": "markdown",
   "metadata": {},
   "source": [
    "## Branching mechanism"
   ]
  },
  {
   "cell_type": "code",
   "execution_count": 44,
   "metadata": {},
   "outputs": [],
   "source": [
    "def split_branch(node, min_num_sample, depth):\n",
    "  #  print(\"split_branch\")\n",
    "#    print(\"depth\",depth)\n",
    "    left_node = node['group'][0][0]\n",
    "    right_node = node['group'][0][1]\n",
    "    left_node1 = node['group'][1][0]\n",
    "    right_node1 = node['group'][1][1]\n",
    "    del(node['group'])\n",
    "    \n",
    "    if len(left_node)==0 or len(right_node)==0:\n",
    "      #  print(\"case 0\")\n",
    "        if len(left_node)==0:\n",
    "            if len(right_node1)==0:\n",
    "                node['left']=term(right_node)\n",
    "                node['right']=term(right_node)\n",
    "            elif len(right_node1)!=0:\n",
    "                node['left']=term(right_node1)\n",
    "                node['right']=term(right_node1)\n",
    "                \n",
    "            \n",
    "        elif len(right_node)==0:\n",
    "            if len(left_node1)==0:\n",
    "                node['left']=term(left_node)\n",
    "                node['right']=term(left_node)\n",
    "            elif len(left_node1)!=0:\n",
    "                node['left']=term(left_node1)\n",
    "                node['right']=term(left_node1)\n",
    "            \n",
    "        return\n",
    "   \n",
    "    if len(left_node) <= min_num_sample:\n",
    "      #  print(\"2\")\n",
    "        if len(left_node1)==0:\n",
    "            node['left'] = term(left_node)\n",
    "        else:\n",
    "            node['left'] = term(left_node1)\n",
    "            \n",
    "            \n",
    "        \n",
    "   # print(node['left'])\n",
    "    else :\n",
    "      #  print(\"3\")\n",
    "        node['left'] =split([left_node,left_node1])\n",
    "      \n",
    " # print(\"left=\",node['left'])\n",
    "        split_branch(node['left'],min_num_sample, depth+1)\n",
    "    if len(right_node) <= min_num_sample:\n",
    "       # print(\"4\")\n",
    "        if len(right_node1)==0:\n",
    "            node['right'] = term(right_node)\n",
    "        else:\n",
    "            node['right'] = term(right_node1)\n",
    "        \n",
    "        \n",
    "      \n",
    "  # print(node['right'])\n",
    "    else:\n",
    "       # print(\"5\")\n",
    "#        print(\"right\",right_node)\n",
    "        node['right'] = split([right_node,right_node1])\n",
    "#        print(node['right'])\n",
    "        split_branch(node['right'], min_num_sample, depth+1)\n",
    "   "
   ]
  },
  {
   "cell_type": "markdown",
   "metadata": {},
   "source": [
    "## Tree construction"
   ]
  },
  {
   "cell_type": "code",
   "execution_count": 45,
   "metadata": {},
   "outputs": [],
   "source": [
    "def build_tree(x,min_num_sample):\n",
    "    root =split(x) \n",
    "    split_branch(root,  min_num_sample, 1)\n",
    "    return root"
   ]
  },
  {
   "cell_type": "markdown",
   "metadata": {},
   "source": [
    "## SVM Embedding"
   ]
  },
  {
   "cell_type": "code",
   "execution_count": 46,
   "metadata": {},
   "outputs": [],
   "source": [
    "def predict_sample(node,sample):\n",
    "\n",
    "    if sample[node[\"feature_index\"]] <= node[\"split point\"]:\n",
    "        if isinstance(node['left'],dict):\n",
    "            return predict_sample(node['left'],sample)\n",
    "        else:\n",
    "            return node['left']\n",
    "    else:\n",
    "        if isinstance(node['right'],dict):\n",
    "            return predict_sample(node['right'],sample)\n",
    "        else:\n",
    "            return node['right']"
   ]
  },
  {
   "cell_type": "markdown",
   "metadata": {},
   "source": [
    "## Predicted Outcome"
   ]
  },
  {
   "cell_type": "code",
   "execution_count": 47,
   "metadata": {},
   "outputs": [],
   "source": [
    "def predict(X,tree):\n",
    "    y_pred =[]\n",
    "    for i in range(0,len(X)):\n",
    "        y_pred.append(predict_sample(tree,X[i]))\n",
    "    y_pred=np.array(y_pred)\n",
    "    return y_pred"
   ]
  },
  {
   "cell_type": "markdown",
   "metadata": {},
   "source": [
    "## Accuracy measure"
   ]
  },
  {
   "cell_type": "code",
   "execution_count": 48,
   "metadata": {},
   "outputs": [],
   "source": [
    "def accuracy(yp,y):\n",
    "    \n",
    "    y=y.reshape(-1,1)\n",
    "    e=yp-y\n",
    "    o=np.count_nonzero(e)\n",
    "    \n",
    "    return ((len(y)-o)/len(y))*100"
   ]
  },
  {
   "cell_type": "markdown",
   "metadata": {},
   "source": [
    "## Make predictions and compute accuracy on train an test set"
   ]
  },
  {
   "cell_type": "code",
   "execution_count": 49,
   "metadata": {},
   "outputs": [],
   "source": [
    "t={}\n",
    "ypred=np.zeros((xu.shape[0],1))\n",
    "\n",
    "w=partition(xt)\n",
    "tree=build_tree(w,min_num_sample)\n",
    "\n",
    "t[0]=tree\n",
    "\n",
    "ypred[:,0]=predict(xu,t[0])\n",
    "ypred1=np.zeros((xt.shape[0],1))\n",
    "ypred1[:,0]=predict(xt,t[0])\n",
    "\n",
    "for i in range(1,trees):\n",
    "    w=partition(xt)\n",
    "    tree=build_tree(w,min_num_sample)\n",
    "    t[i]=tree\n",
    "    ypred1=np.c_[ypred1,predict(xt,tree)]\n",
    "    ypred=np.c_[ypred,predict(xu,tree)]"
   ]
  },
  {
   "cell_type": "code",
   "execution_count": 50,
   "metadata": {},
   "outputs": [],
   "source": [
    "yp=np.zeros((len(ypred),1))\n",
    "\n",
    "for i in range(0,len(ypred)):\n",
    "    yp[i]=term(ypred[i].reshape(-1,1))\n",
    "#print(\"ypred\",ypred)\n",
    "    \n",
    "yp1=np.zeros((len(ypred1),1))\n",
    "#print(\"ypred1\",ypred1)"
   ]
  },
  {
   "cell_type": "code",
   "execution_count": 51,
   "metadata": {},
   "outputs": [
    {
     "name": "stdout",
     "output_type": "stream",
     "text": [
      "ACCURACY OF Random Forest for test= 96.66666666666667\n",
      "ACCURACY OF Random Forest for train= 40.0\n"
     ]
    }
   ],
   "source": [
    "for i in range(0,len(ypred1)):\n",
    "    yp1[i]=term(ypred1[i].reshape(-1,1))\n",
    "#print(yp1)\n",
    "#print(xt[:,-1].reshape(-1,1))\n",
    "\n",
    "print(\"ACCURACY OF Random Forest for test=\",accuracy(yp,xu[:,-1]))\n",
    "print(\"ACCURACY OF Random Forest for train=\",accuracy(yp1,xt[:,-1]))"
   ]
  }
 ],
 "metadata": {
  "kernelspec": {
   "display_name": "Python 3",
   "language": "python",
   "name": "python3"
  },
  "language_info": {
   "codemirror_mode": {
    "name": "ipython",
    "version": 3
   },
   "file_extension": ".py",
   "mimetype": "text/x-python",
   "name": "python",
   "nbconvert_exporter": "python",
   "pygments_lexer": "ipython3",
   "version": "3.7.1"
  }
 },
 "nbformat": 4,
 "nbformat_minor": 2
}
