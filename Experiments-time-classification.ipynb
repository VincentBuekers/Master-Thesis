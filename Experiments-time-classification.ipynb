{
 "cells": [
  {
   "cell_type": "markdown",
   "metadata": {},
   "source": [
    "# RF-SVC: Experiments on training time with artificially generated data"
   ]
  },
  {
   "cell_type": "code",
   "execution_count": 3,
   "metadata": {},
   "outputs": [],
   "source": [
    "import numpy as np\n",
    "import pandas as pd\n",
    "\n",
    "from sklearn import datasets, metrics, preprocessing\n",
    "from sklearn.model_selection import train_test_split\n",
    "\n",
    "import time\n",
    "import csv\n",
    "\n",
    "import warnings\n",
    "warnings.filterwarnings(\"ignore\")\n",
    "\n",
    "%run 'RF-SVM-Classification.ipynb'"
   ]
  },
  {
   "cell_type": "code",
   "execution_count": 2,
   "metadata": {},
   "outputs": [],
   "source": [
    "n_samples = np.linspace(10000, 1000000, num=5) \n",
    "samples = [int(i) for i in n_samples]"
   ]
  },
  {
   "cell_type": "markdown",
   "metadata": {},
   "source": [
    "# Binary Classification\n",
    "## Single trees\n",
    "### linear SVC tree: liblinear"
   ]
  },
  {
   "cell_type": "code",
   "execution_count": 31,
   "metadata": {},
   "outputs": [
    {
     "name": "stdout",
     "output_type": "stream",
     "text": [
      "training on 10000 samples:\n",
      "    * tune = False (0.04 seconds)\n",
      "    * tune = True (1.77 seconds)\n",
      "training on 257500 samples:\n",
      "    * tune = False (0.58 seconds)\n",
      "    * tune = True (15.17 seconds)\n",
      "training on 505000 samples:\n",
      "    * tune = False (1.32 seconds)\n",
      "    * tune = True (26.54 seconds)\n",
      "training on 752500 samples:\n",
      "    * tune = False (1.40 seconds)\n",
      "    * tune = True (35.36 seconds)\n",
      "training on 1000000 samples:\n",
      "    * tune = False (2.47 seconds)\n",
      "    * tune = True (79.99 seconds)\n"
     ]
    }
   ],
   "source": [
    "with open(\"Time/time_lineartree_bin.csv\", \"w\") as csv_file:\n",
    "    writer = csv.writer(csv_file, delimiter=',')\n",
    "                        \n",
    "    for n in samples:\n",
    "        print(\"training on \"+ str(n) +\" samples:\")\n",
    "        X, y = datasets.make_classification(n_samples=n)\n",
    "    \n",
    "        X_train,X_test, y_train,y_test, idx_train,idx_test = train_test_split(X,y, np.arange(len(X))\n",
    "                                                                       ,test_size=1/3, stratify=y)\n",
    "    \n",
    "        # Rescale input space to [0,1] range (for purposes of consistency and stability)\n",
    "        scaler = preprocessing.MinMaxScaler()\n",
    "        X_train = scaler.fit_transform(X_train)\n",
    "        X_test = scaler.transform(X_test)\n",
    "        \n",
    "        subsets = extra_partition(X_train,X_test, y_train,y_test, idx_train,idx_test)\n",
    "        \n",
    "        training_time = [n]\n",
    "\n",
    "        for tune in [False, True]:\n",
    "            t = time.time()\n",
    "            \n",
    "            svc_tree = fit_svc_tree(subsets, variant=\"linear\", tune=tune)\n",
    "            \n",
    "            time_model = time.time() - t\n",
    "            training_time.append(time_model)\n",
    "            \n",
    "            print(\"    * tune = \" + str(tune) + \" ({:.2f} seconds)\".format(time_model))\n",
    "        \n",
    "        # append to csv file\n",
    "        writer.writerow(training_time)"
   ]
  },
  {
   "cell_type": "markdown",
   "metadata": {},
   "source": [
    "### linear SVC tree: SGD"
   ]
  },
  {
   "cell_type": "code",
   "execution_count": 4,
   "metadata": {},
   "outputs": [
    {
     "name": "stdout",
     "output_type": "stream",
     "text": [
      "training on 10000 samples:\n",
      "    * tune = False (0.14 seconds)\n",
      "    * tune = True (2.44 seconds)\n",
      "training on 257500 samples:\n",
      "    * tune = False (0.47 seconds)\n",
      "    * tune = True (12.45 seconds)\n",
      "training on 505000 samples:\n",
      "    * tune = False (0.76 seconds)\n",
      "    * tune = True (24.57 seconds)\n",
      "training on 752500 samples:\n",
      "    * tune = False (0.77 seconds)\n",
      "    * tune = True (38.72 seconds)\n",
      "training on 1000000 samples:\n",
      "    * tune = False (1.04 seconds)\n",
      "    * tune = True (50.96 seconds)\n"
     ]
    }
   ],
   "source": [
    "with open(\"Time/time_sgdtree_bin.csv\", \"w\") as csv_file:\n",
    "    writer = csv.writer(csv_file, delimiter=',')\n",
    "                        \n",
    "    for n in samples:\n",
    "        print(\"training on \"+ str(n) +\" samples:\")\n",
    "        X, y = datasets.make_classification(n_samples=n)\n",
    "    \n",
    "        X_train,X_test, y_train,y_test, idx_train,idx_test =train_test_split(X,y,\n",
    "                                                                             np.arange(len(X)),\n",
    "                                                                             test_size=1/3,\n",
    "                                                                             stratify=y)\n",
    "    \n",
    "        # Rescale input space to [0,1] range (for purposes of consistency and stability)\n",
    "        scaler = preprocessing.MinMaxScaler()\n",
    "        X_train = scaler.fit_transform(X_train)\n",
    "        X_test = scaler.transform(X_test)\n",
    "        \n",
    "        subsets = extra_partition(X_train,X_test, y_train,y_test, idx_train,idx_test)\n",
    "        \n",
    "        training_time = [n]\n",
    "\n",
    "        for tune_bool in [False, True]:\n",
    "            t = time.time()\n",
    "            \n",
    "            svc_tree = fit_svc_tree(subsets, variant=\"sgd\", tune=tune_bool)\n",
    "            \n",
    "            time_model = time.time() - t\n",
    "            training_time.append(time_model)\n",
    "            \n",
    "            print(\"    * tune = \" + str(tune_bool) + \" ({:.2f} seconds)\".format(time_model))\n",
    "        \n",
    "        # append to csv file\n",
    "        writer.writerow(training_time)"
   ]
  },
  {
   "cell_type": "markdown",
   "metadata": {},
   "source": [
    "## Multiple kernel SVC tree"
   ]
  },
  {
   "cell_type": "code",
   "execution_count": null,
   "metadata": {},
   "outputs": [],
   "source": []
  },
  {
   "cell_type": "code",
   "execution_count": null,
   "metadata": {},
   "outputs": [],
   "source": [
    "with open(\"Time/time_multitree_bin.csv\", \"w\") as csv_file:\n",
    "    writer = csv.writer(csv_file, delimiter=',')\n",
    "                        \n",
    "    for n in samples:\n",
    "        print(\"training multiple kernel on \"+ str(n) +\" samples:\")\n",
    "        \n",
    "        X, y = datasets.make_classification(n_samples=n)\n",
    "    \n",
    "        X_train,X_test, y_train,y_test, idx_train,idx_test = train_test_split(X,y, np.arange(len(X))\n",
    "                                                                       ,test_size=1/3, stratify=y)\n",
    "    \n",
    "        # Rescale input space to [0,1] range (for purposes of consistency and stability)\n",
    "        scaler = preprocessing.MinMaxScaler()\n",
    "        X_train = scaler.fit_transform(X_train)\n",
    "        X_test = scaler.transform(X_test)\n",
    "        \n",
    "        subsets = extra_partition(X_train,X_test, y_train,y_test, idx_train,idx_test)\n",
    "        \n",
    "        training_time = [n]\n",
    "        \n",
    "        for tune_bool in [False,True]:\n",
    "            \n",
    "            t = time.time()\n",
    "            \n",
    "            svc_tree = fit_svc_tree(subsets, variant=\"multiple kernel\", tune=tune_bool)\n",
    "            \n",
    "            time_kernel = time.time() - t\n",
    "            training_time.append(time_kernel)\n",
    "                    \n",
    "            print(\"    * tune = \"+str(tune_bool)+\" ({:.2f} seconds)\".format(time_kernel))\n",
    "        \n",
    "        # append to csv file\n",
    "        writer.writerow(training_time)"
   ]
  },
  {
   "cell_type": "markdown",
   "metadata": {},
   "source": [
    "## Ensembles"
   ]
  },
  {
   "cell_type": "code",
   "execution_count": 38,
   "metadata": {},
   "outputs": [
    {
     "data": {
      "text/plain": [
       "[10, 32, 55, 77, 100]"
      ]
     },
     "execution_count": 38,
     "metadata": {},
     "output_type": "execute_result"
    }
   ],
   "source": [
    "trees_list = np.linspace(10,100,5)\n",
    "trees_list = [int(trees) for trees in trees_list]\n",
    "trees_list"
   ]
  },
  {
   "cell_type": "markdown",
   "metadata": {},
   "source": [
    "### liblinear SVC forest (untuned)"
   ]
  },
  {
   "cell_type": "code",
   "execution_count": 14,
   "metadata": {},
   "outputs": [
    {
     "name": "stdout",
     "output_type": "stream",
     "text": [
      "Training linear SVC forest on 1000 samples:\n",
      "    * 10 trees: 0.15 seconds\n",
      "    * 25 trees: 0.21 seconds\n",
      "    * 50 trees: 0.34 seconds\n",
      "Training linear SVC forest on 112000 samples:\n",
      "    * 10 trees: 3.96 seconds\n",
      "    * 25 trees: 10.03 seconds\n",
      "    * 50 trees: 23.83 seconds\n",
      "Training linear SVC forest on 223000 samples:\n",
      "    * 10 trees: 11.71 seconds\n",
      "    * 25 trees: 22.21 seconds\n",
      "    * 50 trees: 42.42 seconds\n",
      "Training linear SVC forest on 334000 samples:\n",
      "    * 10 trees: 13.31 seconds\n",
      "    * 25 trees: 31.76 seconds\n",
      "    * 50 trees: 67.43 seconds\n",
      "Training linear SVC forest on 445000 samples:\n",
      "    * 10 trees: 17.27 seconds\n",
      "    * 25 trees: 43.16 seconds\n",
      "    * 50 trees: 93.90 seconds\n",
      "Training linear SVC forest on 556000 samples:\n",
      "    * 10 trees: 19.22 seconds\n",
      "    * 25 trees: 47.32 seconds\n",
      "    * 50 trees: 116.76 seconds\n",
      "Training linear SVC forest on 667000 samples:\n",
      "    * 10 trees: 27.87 seconds\n",
      "    * 25 trees: 63.27 seconds\n",
      "    * 50 trees: 172.33 seconds\n",
      "Training linear SVC forest on 778000 samples:\n",
      "    * 10 trees: 33.18 seconds\n",
      "    * 25 trees: 72.42 seconds\n",
      "    * 50 trees: 211.33 seconds\n",
      "Training linear SVC forest on 889000 samples:\n",
      "    * 10 trees: 43.10 seconds\n",
      "    * 25 trees: 89.40 seconds\n",
      "    * 50 trees: 271.72 seconds\n",
      "Training linear SVC forest on 1000000 samples:\n",
      "    * 10 trees: 47.53 seconds\n",
      "    * 25 trees: 124.34 seconds\n",
      "    * 50 trees: 286.87 seconds\n"
     ]
    }
   ],
   "source": [
    "with open(\"Time/time_linforest_untuned_bin.csv\", \"w\") as csv_file:\n",
    "    writer = csv.writer(csv_file, delimiter=',')\n",
    "    \n",
    "    for n in samples:\n",
    "        print(\"Training linear SVC forest on \" + str(n) + \" samples:\")\n",
    "        X, y = datasets.make_classification(n_samples=n)\n",
    "    \n",
    "        X_train,X_test, y_train,y_test, idx_train,idx_test = train_test_split(X,y, np.arange(len(X))\n",
    "                                                                       ,test_size=1/3, stratify=y)\n",
    "    \n",
    "        # Rescale input space to [0,1] range (for purposes of consistency and stability)\n",
    "        scaler = preprocessing.MinMaxScaler()\n",
    "        X_train = scaler.fit_transform(X_train)\n",
    "        X_test = scaler.transform(X_test)\n",
    "        \n",
    "        training_time=[n]\n",
    "        \n",
    "        for trees in trees_list:\n",
    "            t = time.time()\n",
    "        \n",
    "            partitions = forest_partition(X_train,X_test,\n",
    "                                          y_train,y_test,\n",
    "                                          idx_train,idx_test, \n",
    "                                          n_trees=trees)\n",
    "            forest = fit_rf_svc(partitions, variant=\"linear\", tune=False)\n",
    "            \n",
    "            time_tree = round(time.time() - t, 2)\n",
    "            training_time.append(time_tree)\n",
    "            \n",
    "            print(\"    * \" + str(trees) + \" trees: {:.2f} seconds\".format(time_tree))\n",
    "            \n",
    "        # write to csv file\n",
    "        writer.writerow(training_time)"
   ]
  },
  {
   "cell_type": "markdown",
   "metadata": {},
   "source": [
    "### SGD SVC forest (untuned)"
   ]
  },
  {
   "cell_type": "code",
   "execution_count": 22,
   "metadata": {},
   "outputs": [],
   "source": [
    "with open(\"Time/time_sgdforest_untuned_bin.csv\", \"w\") as csv_file:\n",
    "    writer = csv.writer(csv_file, delimiter=',')\n",
    "    \n",
    "    for n in samples:\n",
    "        print(\"Training linear SVC forest on \" + str(n) + \" samples:\")\n",
    "        X, y = datasets.make_classification(n_samples=n)\n",
    "    \n",
    "        X_train,X_test, y_train,y_test, idx_train,idx_test = train_test_split(X,y, np.arange(len(X))\n",
    "                                                                       ,test_size=1/3, stratify=y)\n",
    "    \n",
    "        # Rescale input space to [0,1] range (for purposes of consistency and stability)\n",
    "        scaler = preprocessing.MinMaxScaler()\n",
    "        X_train = scaler.fit_transform(X_train)\n",
    "        X_test = scaler.transform(X_test)\n",
    "        \n",
    "        training_time=[n]\n",
    "        \n",
    "        for trees in trees_list:\n",
    "            t = time.time()\n",
    "        \n",
    "            partitions = forest_partition(X_train,X_test,\n",
    "                                          y_train,y_test,\n",
    "                                          idx_train,idx_test, \n",
    "                                          n_trees=trees)\n",
    "            forest = fit_rf_svc(partitions, variant=\"sgd\", tune=True)\n",
    "            \n",
    "            time_tree = round(time.time() - t, 2)\n",
    "            training_time.append(time_tree)\n",
    "            \n",
    "            print(\"    * \" + str(trees) + \" trees: {:.2f} seconds\".format(time_tree))\n",
    "            \n",
    "        # write to csv file\n",
    "        writer.writerow(training_time)"
   ]
  },
  {
   "cell_type": "markdown",
   "metadata": {},
   "source": [
    "### Liblinear SVC forest (tuned)"
   ]
  },
  {
   "cell_type": "code",
   "execution_count": null,
   "metadata": {},
   "outputs": [],
   "source": [
    "with open(\"Time/time_linforest_tuned_bin.csv\", \"w\") as csv_file:\n",
    "    writer = csv.writer(csv_file, delimiter=',')\n",
    "    \n",
    "    for n in samples:\n",
    "        print(\"Training linear SVC forest on \" + str(n) + \" samples:\")\n",
    "        X, y = datasets.make_classification(n_samples=n)\n",
    "    \n",
    "        X_train,X_test, y_train,y_test, idx_train,idx_test = train_test_split(X,y, np.arange(len(X))\n",
    "                                                                       ,test_size=1/3, stratify=y)\n",
    "    \n",
    "        # Rescale input space to [0,1] range (for purposes of consistency and stability)\n",
    "        scaler = preprocessing.MinMaxScaler()\n",
    "        X_train = scaler.fit_transform(X_train)\n",
    "        X_test = scaler.transform(X_test)\n",
    "        \n",
    "        training_time=[n]\n",
    "        \n",
    "        for trees in trees_list:\n",
    "            t = time.time()\n",
    "        \n",
    "            partitions = forest_partition(X_train,X_test,\n",
    "                                          y_train,y_test,\n",
    "                                          idx_train,idx_test, \n",
    "                                          n_trees=trees)\n",
    "            forest = fit_rf_svc(partitions, variant=\"linear\", tune=True)\n",
    "            \n",
    "            time_tree = round(time.time() - t, 2)\n",
    "            training_time.append(time_tree)\n",
    "            \n",
    "            print(\"    * \" + str(trees) + \" trees: {:.2f} seconds\".format(time_tree))\n",
    "            \n",
    "        # write to csv file\n",
    "        writer.writerow(training_time)"
   ]
  },
  {
   "cell_type": "markdown",
   "metadata": {},
   "source": [
    "### SGD SVC forest (tuned)"
   ]
  },
  {
   "cell_type": "code",
   "execution_count": null,
   "metadata": {},
   "outputs": [],
   "source": [
    "with open(\"Time/time_sgdforest_tuned_bin.csv\", \"w\") as csv_file:\n",
    "    writer = csv.writer(csv_file, delimiter=',')\n",
    "    \n",
    "    for n in samples:\n",
    "        print(\"Training linear SVC forest on \" + str(n) + \" samples:\")\n",
    "        X, y = datasets.make_classification(n_samples=n)\n",
    "    \n",
    "        X_train,X_test, y_train,y_test, idx_train,idx_test = train_test_split(X,y, np.arange(len(X))\n",
    "                                                                       ,test_size=1/3, stratify=y)\n",
    "    \n",
    "        # Rescale input space to [0,1] range (for purposes of consistency and stability)\n",
    "        scaler = preprocessing.MinMaxScaler()\n",
    "        X_train = scaler.fit_transform(X_train)\n",
    "        X_test = scaler.transform(X_test)\n",
    "        \n",
    "        training_time=[n]\n",
    "        \n",
    "        for trees in trees_list:\n",
    "            t = time.time()\n",
    "        \n",
    "            partitions = forest_partition(X_train,X_test,\n",
    "                                          y_train,y_test,\n",
    "                                          idx_train,idx_test, \n",
    "                                          n_trees=trees)\n",
    "            forest = fit_rf_svc(partitions, variant=\"sgd\", tune=False)\n",
    "            \n",
    "            time_tree = round(time.time() - t, 2)\n",
    "            training_time.append(time_tree)\n",
    "            \n",
    "            print(\"    * \" + str(trees) + \" trees: {:.2f} seconds\".format(time_tree))\n",
    "            \n",
    "        # write to csv file\n",
    "        writer.writerow(training_time)"
   ]
  }
 ],
 "metadata": {
  "kernelspec": {
   "display_name": "Python 3",
   "language": "python",
   "name": "python3"
  },
  "language_info": {
   "codemirror_mode": {
    "name": "ipython",
    "version": 3
   },
   "file_extension": ".py",
   "mimetype": "text/x-python",
   "name": "python",
   "nbconvert_exporter": "python",
   "pygments_lexer": "ipython3",
   "version": "3.7.1"
  }
 },
 "nbformat": 4,
 "nbformat_minor": 4
}
