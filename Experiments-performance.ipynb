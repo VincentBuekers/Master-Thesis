{
 "cells": [
  {
   "cell_type": "markdown",
   "metadata": {},
   "source": [
    "# RF-SVC: parameter experiments"
   ]
  },
  {
   "cell_type": "code",
   "execution_count": 26,
   "metadata": {},
   "outputs": [],
   "source": [
    "import numpy as np\n",
    "import pandas as pd\n",
    "import statistics\n",
    "\n",
    "from sklearn import datasets, metrics, preprocessing, model_selection\n",
    "from sklearn.model_selection import train_test_split\n",
    "from sklearn.ensemble import RandomForestClassifier, ExtraTreesClassifier\n",
    "\n",
    "import csv\n",
    "\n",
    "import warnings\n",
    "warnings.filterwarnings(\"ignore\")\n",
    "\n",
    "from IPython.display import clear_output\n",
    "\n",
    "%run \"RSVT.ipynb\""
   ]
  },
  {
   "cell_type": "code",
   "execution_count": 170,
   "metadata": {},
   "outputs": [],
   "source": [
    "n_trees_1 = list(np.linspace(1,10,10))\n",
    "n_trees_2 = list(np.linspace(20,100,9))\n",
    "n_trees = n_trees_1+ n_trees_2\n",
    "n_trees = [int(i) for i in n_trees]\n",
    "\n",
    "def forest_size(filename):\n",
    "    with open(filename, \"w\") as csv_file:\n",
    "        writer = csv.writer(csv_file, delimiter=',')\n",
    "        writer.writerow([\"Forest Size\", \"CV_Accuracy\"])\n",
    "    \n",
    "        i=1\n",
    "        \n",
    "        # 3 fold stratified CV\n",
    "        folds = model_selection.StratifiedKFold(n_splits=5)\n",
    "        \n",
    "        for t in n_trees:\n",
    "                    \n",
    "            clear_output(wait=True)\n",
    "                    \n",
    "            acc = []\n",
    "                    \n",
    "            for train_index, test_index in folds.split(X, y):\n",
    "                        \n",
    "                X_train, X_test = X[train_index], X[test_index]\n",
    "                y_train, y_test = y[train_index], y[test_index]\n",
    "                    \n",
    "                # Rescale input space to [0,1] range\n",
    "                scaler = preprocessing.MinMaxScaler()\n",
    "                X_train = scaler.fit_transform(X_train)\n",
    "                X_test = scaler.transform(X_test)\n",
    "                        \n",
    "                partitions = extra_partition(X_train,X_test, y_train, n_estimators=t)\n",
    "                rsvt = fit_rsvt(partitions)\n",
    "                        \n",
    "                preds = predict_forest(partitions,rsvt)\n",
    "                acc.append(metrics.accuracy_score(y_test,preds))\n",
    "            \n",
    "            cv_acc = np.mean(acc) \n",
    "            \n",
    "            # append to csv file\n",
    "            writer.writerow([t,cv_acc])\n",
    "        \n",
    "            print(\"current progress: \", np.round(i/(len(n_trees))*100),\"%\")\n",
    "            i+=1"
   ]
  },
  {
   "cell_type": "code",
   "execution_count": 40,
   "metadata": {},
   "outputs": [],
   "source": [
    "sample_factors = np.linspace(1/3,3, 10)\n",
    "\n",
    "def p_var(X,y):\n",
    "    \n",
    "        i=1\n",
    "\n",
    "        folds = model_selection.StratifiedKFold(n_splits=5)\n",
    "        \n",
    "        cv_acc = []\n",
    "        \n",
    "        for sample_factor in sample_factors:\n",
    "                    \n",
    "            clear_output(wait=True)\n",
    "                    \n",
    "            acc = []\n",
    "                    \n",
    "            for train_index, test_index in folds.split(X, y):\n",
    "                        \n",
    "                X_train, X_test = X[train_index], X[test_index]\n",
    "                y_train, y_test = y[train_index], y[test_index]\n",
    "                    \n",
    "                scaler = preprocessing.MinMaxScaler()\n",
    "                X_train = scaler.fit_transform(X_train)\n",
    "                X_test = scaler.transform(X_test)\n",
    "                        \n",
    "                partitions = extra_partition(X_train,X_test, y_train, min_samples_factor=sample_factor)\n",
    "                rsvt = fit_rsvt(partitions)\n",
    "                        \n",
    "                preds = predict_forest(partitions,rsvt)\n",
    "                acc.append(metrics.accuracy_score(y_test,preds))\n",
    "            \n",
    "            cv_acc.append(np.mean(acc)) \n",
    "        \n",
    "            print(\"current progress: \", np.round(i/len(sample_factors)*100),\"%\")\n",
    "            i+=1\n",
    "            \n",
    "        print(\"Variance on CV_acc: \", statistics.variance(cv_acc))\n",
    "            \n",
    "            "
   ]
  },
  {
   "cell_type": "markdown",
   "metadata": {},
   "source": [
    "## Wine"
   ]
  },
  {
   "cell_type": "code",
   "execution_count": 6,
   "metadata": {},
   "outputs": [],
   "source": [
    "X,y = datasets.load_wine(return_X_y=True)"
   ]
  },
  {
   "cell_type": "code",
   "execution_count": 191,
   "metadata": {},
   "outputs": [
    {
     "name": "stdout",
     "output_type": "stream",
     "text": [
      "current progress:  100.0 %\n"
     ]
    }
   ],
   "source": [
    "forest_size(\"Perf/forest_wine.csv\")"
   ]
  },
  {
   "cell_type": "code",
   "execution_count": 34,
   "metadata": {},
   "outputs": [
    {
     "name": "stdout",
     "output_type": "stream",
     "text": [
      "current progress:  100.0 %\n",
      "Variance on CV_acc:  2.3731130898066203e-06\n"
     ]
    }
   ],
   "source": [
    "p_var(X,y)"
   ]
  },
  {
   "cell_type": "markdown",
   "metadata": {},
   "source": [
    "## Wisconsin"
   ]
  },
  {
   "cell_type": "code",
   "execution_count": 35,
   "metadata": {},
   "outputs": [],
   "source": [
    "X,y = datasets.load_breast_cancer(return_X_y=True)"
   ]
  },
  {
   "cell_type": "code",
   "execution_count": 194,
   "metadata": {},
   "outputs": [
    {
     "name": "stdout",
     "output_type": "stream",
     "text": [
      "current progress:  100.0 %\n"
     ]
    }
   ],
   "source": [
    "forest_size(\"Perf/forest_wisconsin.csv\")"
   ]
  },
  {
   "cell_type": "code",
   "execution_count": 36,
   "metadata": {},
   "outputs": [
    {
     "name": "stdout",
     "output_type": "stream",
     "text": [
      "current progress:  100.0 %\n",
      "Variance on CV_acc:  2.77434419607155e-06\n"
     ]
    }
   ],
   "source": [
    "p_var(X,y)"
   ]
  },
  {
   "cell_type": "markdown",
   "metadata": {},
   "source": [
    "# Land cover"
   ]
  },
  {
   "cell_type": "code",
   "execution_count": 37,
   "metadata": {},
   "outputs": [],
   "source": [
    "landcover_train = pd.read_csv(\"Data/landcover_train.csv\")\n",
    "\n",
    "X = np.array(landcover_train.iloc[:,1:])\n",
    "y = landcover_train.iloc[:,0]\n",
    "\n",
    "enc = preprocessing.LabelEncoder()\n",
    "y = enc.fit_transform(y)"
   ]
  },
  {
   "cell_type": "code",
   "execution_count": 195,
   "metadata": {},
   "outputs": [
    {
     "name": "stdout",
     "output_type": "stream",
     "text": [
      "current progress:  100.0 %\n"
     ]
    }
   ],
   "source": [
    "forest_size(\"Perf/forest_landcover.csv\")"
   ]
  },
  {
   "cell_type": "code",
   "execution_count": 38,
   "metadata": {},
   "outputs": [
    {
     "name": "stdout",
     "output_type": "stream",
     "text": [
      "current progress:  100.0 %\n",
      "Variance on CV_acc:  0.0044704388966735654\n"
     ]
    }
   ],
   "source": [
    "p_var(X,y)"
   ]
  },
  {
   "cell_type": "markdown",
   "metadata": {},
   "source": [
    "# Vehicle"
   ]
  },
  {
   "cell_type": "code",
   "execution_count": 45,
   "metadata": {},
   "outputs": [],
   "source": [
    "vehicle = pd.read_csv(\"Data/vehicle.txt\", sep=\" \", header=None)\n",
    "vehicle = vehicle.drop([19], axis=1)\n",
    "X = np.array(vehicle.iloc[:,:-1])\n",
    "y = np.array(vehicle.iloc[:,-1])\n",
    "\n",
    "enc = preprocessing.LabelEncoder()\n",
    "y = enc.fit_transform(y)"
   ]
  },
  {
   "cell_type": "code",
   "execution_count": 195,
   "metadata": {},
   "outputs": [
    {
     "name": "stdout",
     "output_type": "stream",
     "text": [
      "current progress:  100.0 %\n"
     ]
    }
   ],
   "source": [
    "forest_size(\"Perf/forest_vehicle.csv\")"
   ]
  },
  {
   "cell_type": "code",
   "execution_count": 46,
   "metadata": {},
   "outputs": [
    {
     "name": "stdout",
     "output_type": "stream",
     "text": [
      "current progress:  100.0 %\n",
      "Variance on CV_acc:  3.6106231600370165e-05\n"
     ]
    }
   ],
   "source": [
    "p_var(X,y)"
   ]
  },
  {
   "cell_type": "markdown",
   "metadata": {},
   "source": [
    "## Contraceptive"
   ]
  },
  {
   "cell_type": "code",
   "execution_count": 47,
   "metadata": {},
   "outputs": [],
   "source": [
    "contraceptive = pd.read_csv(\"Data/cmc.csv\", header=None)\n",
    "X = np.array(contraceptive.iloc[:,:-1])\n",
    "y = np.array(contraceptive.iloc[:,-1])"
   ]
  },
  {
   "cell_type": "code",
   "execution_count": 197,
   "metadata": {},
   "outputs": [
    {
     "name": "stdout",
     "output_type": "stream",
     "text": [
      "current progress:  100.0 %\n"
     ]
    }
   ],
   "source": [
    "forest_size(\"Perf/forest_contraceptive.csv\")"
   ]
  },
  {
   "cell_type": "code",
   "execution_count": 48,
   "metadata": {},
   "outputs": [
    {
     "name": "stdout",
     "output_type": "stream",
     "text": [
      "current progress:  100.0 %\n",
      "Variance on CV_acc:  5.531347656359474e-05\n"
     ]
    }
   ],
   "source": [
    "p_var(X,y)"
   ]
  },
  {
   "cell_type": "markdown",
   "metadata": {},
   "source": [
    "# Image"
   ]
  },
  {
   "cell_type": "code",
   "execution_count": 49,
   "metadata": {},
   "outputs": [],
   "source": [
    "segment = np.loadtxt(\"Data/segment.txt\")\n",
    "X = np.array(segment[:,:-1])\n",
    "y = np.array(segment[:,-1])"
   ]
  },
  {
   "cell_type": "code",
   "execution_count": 198,
   "metadata": {},
   "outputs": [
    {
     "name": "stdout",
     "output_type": "stream",
     "text": [
      "current progress:  100.0 %\n"
     ]
    }
   ],
   "source": [
    "forest_size(\"Perf/forest_image.csv\")"
   ]
  },
  {
   "cell_type": "code",
   "execution_count": 50,
   "metadata": {},
   "outputs": [
    {
     "name": "stdout",
     "output_type": "stream",
     "text": [
      "current progress:  100.0 %\n",
      "Variance on CV_acc:  4.92452873405268e-06\n"
     ]
    }
   ],
   "source": [
    "p_var(X,y)"
   ]
  },
  {
   "cell_type": "markdown",
   "metadata": {},
   "source": [
    "# Madelon"
   ]
  },
  {
   "cell_type": "code",
   "execution_count": 51,
   "metadata": {},
   "outputs": [],
   "source": [
    "X = pd.read_csv(\"Data/madelon_train.csv\", sep=\" \", header=None)\n",
    "X = np.array(X.drop([500], axis=1))\n",
    "y = pd.read_csv(\"Data/madelon_trainlabels.csv\", header=None)\n",
    "y = np.array(y).reshape(-1,1)\n",
    "\n",
    "train = np.c_[X,y]\n",
    "X = train[:,:-1]\n",
    "y = train[:,-1]"
   ]
  },
  {
   "cell_type": "code",
   "execution_count": 198,
   "metadata": {},
   "outputs": [
    {
     "name": "stdout",
     "output_type": "stream",
     "text": [
      "current progress:  100.0 %\n"
     ]
    }
   ],
   "source": [
    "forest_size(\"Perf/forest_madelon.csv\")"
   ]
  },
  {
   "cell_type": "code",
   "execution_count": 52,
   "metadata": {},
   "outputs": [
    {
     "name": "stdout",
     "output_type": "stream",
     "text": [
      "current progress:  100.0 %\n",
      "Variance on CV_acc:  9.566666666666385e-06\n"
     ]
    }
   ],
   "source": [
    "p_var(X,y)"
   ]
  },
  {
   "cell_type": "markdown",
   "metadata": {},
   "source": [
    "# Spambase"
   ]
  },
  {
   "cell_type": "code",
   "execution_count": 53,
   "metadata": {},
   "outputs": [],
   "source": [
    "spambase = pd.read_csv(\"Data/spambase.csv\", header=None)\n",
    "X = np.array(spambase.iloc[:,:-1])\n",
    "y = np.array(spambase.iloc[:,-1])"
   ]
  },
  {
   "cell_type": "code",
   "execution_count": 200,
   "metadata": {},
   "outputs": [
    {
     "name": "stdout",
     "output_type": "stream",
     "text": [
      "current progress:  100.0 %\n"
     ]
    }
   ],
   "source": [
    "forest_size(\"Perf/forest_spambase.csv\")"
   ]
  },
  {
   "cell_type": "code",
   "execution_count": 55,
   "metadata": {},
   "outputs": [
    {
     "name": "stdout",
     "output_type": "stream",
     "text": [
      "current progress:  100.0 %\n",
      "Variance on CV_acc:  2.15211141260225e-08\n"
     ]
    }
   ],
   "source": [
    "p_var(X,y)"
   ]
  },
  {
   "cell_type": "markdown",
   "metadata": {},
   "source": [
    "## Handwritten Sklearn"
   ]
  },
  {
   "cell_type": "code",
   "execution_count": 57,
   "metadata": {},
   "outputs": [],
   "source": [
    "X,y = datasets.load_digits(return_X_y=True)"
   ]
  },
  {
   "cell_type": "code",
   "execution_count": 201,
   "metadata": {},
   "outputs": [
    {
     "name": "stdout",
     "output_type": "stream",
     "text": [
      "current progress:  100.0 %\n"
     ]
    }
   ],
   "source": [
    "forest_size(\"Perf/forest_digits.csv\")"
   ]
  },
  {
   "cell_type": "code",
   "execution_count": 58,
   "metadata": {},
   "outputs": [
    {
     "name": "stdout",
     "output_type": "stream",
     "text": [
      "current progress:  100.0 %\n",
      "Variance on CV_acc:  6.931553518670648e-05\n"
     ]
    }
   ],
   "source": [
    "p_var(X,y)"
   ]
  },
  {
   "cell_type": "markdown",
   "metadata": {},
   "source": [
    "## Isolet"
   ]
  },
  {
   "cell_type": "code",
   "execution_count": 68,
   "metadata": {},
   "outputs": [],
   "source": [
    "isolet_train = pd.read_csv(\"Data/isolet-train.csv\", header=None)\n",
    "\n",
    "X = np.array(isolet_train.iloc[:,:-1])\n",
    "y = np.array(isolet_train.iloc[:,-1])"
   ]
  },
  {
   "cell_type": "code",
   "execution_count": 201,
   "metadata": {},
   "outputs": [
    {
     "name": "stdout",
     "output_type": "stream",
     "text": [
      "current progress:  100.0 %\n"
     ]
    }
   ],
   "source": [
    "forest_size(\"Perf/forest_isolet.csv\")"
   ]
  },
  {
   "cell_type": "code",
   "execution_count": 72,
   "metadata": {},
   "outputs": [
    {
     "name": "stdout",
     "output_type": "stream",
     "text": [
      "current progress:  100.0 %\n",
      "Variance on CV_acc:  4.421756312315742e-05\n"
     ]
    }
   ],
   "source": [
    "p_var(X,y)"
   ]
  },
  {
   "cell_type": "code",
   "execution_count": null,
   "metadata": {},
   "outputs": [],
   "source": []
  }
 ],
 "metadata": {
  "kernelspec": {
   "display_name": "Python 3",
   "language": "python",
   "name": "python3"
  },
  "language_info": {
   "codemirror_mode": {
    "name": "ipython",
    "version": 3
   },
   "file_extension": ".py",
   "mimetype": "text/x-python",
   "name": "python",
   "nbconvert_exporter": "python",
   "pygments_lexer": "ipython3",
   "version": "3.7.6"
  }
 },
 "nbformat": 4,
 "nbformat_minor": 4
}
