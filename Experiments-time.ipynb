{
 "cells": [
  {
   "cell_type": "markdown",
   "metadata": {},
   "source": [
    "# RSVT: Experiments on training time with artificially generated data"
   ]
  },
  {
   "cell_type": "code",
   "execution_count": 21,
   "metadata": {},
   "outputs": [],
   "source": [
    "import numpy as np\n",
    "import pandas as pd\n",
    "\n",
    "from sklearn import datasets, preprocessing\n",
    "from sklearn.model_selection import train_test_split\n",
    "\n",
    "import time\n",
    "import csv\n",
    "\n",
    "import warnings\n",
    "warnings.filterwarnings(\"ignore\")\n",
    "\n",
    "from IPython.display import clear_output\n",
    "\n",
    "%run \"RSVT.ipynb\""
   ]
  },
  {
   "cell_type": "markdown",
   "metadata": {},
   "source": [
    "# Forest Size"
   ]
  },
  {
   "cell_type": "code",
   "execution_count": 30,
   "metadata": {},
   "outputs": [],
   "source": [
    "samples = np.linspace(15000,150000,10)\n",
    "samples = [int(i) for i in samples]\n",
    "\n",
    "n_trees = [1,5,10]"
   ]
  },
  {
   "cell_type": "code",
   "execution_count": 7,
   "metadata": {},
   "outputs": [
    {
     "name": "stdout",
     "output_type": "stream",
     "text": [
      "current progress:  100.0 %\n"
     ]
    }
   ],
   "source": [
    "with open(\"Time/forest.csv\", \"w\") as csv_file:\n",
    "    writer = csv.writer(csv_file, delimiter=',')\n",
    "    writer.writerow(['sample size','forest size', 'time'])\n",
    "    \n",
    "    i=1\n",
    "    for n in samples:\n",
    "        \n",
    "        n_train = 2/3*n\n",
    "\n",
    "        X, y = datasets.make_classification(n_samples=n)\n",
    "    \n",
    "        X_train,X_test, y_train,y_test = train_test_split(X,y,test_size=1/3)\n",
    "        \n",
    "        for trees in n_trees:\n",
    "            clear_output(wait=True)\n",
    "                        \n",
    "            t = time.time()\n",
    "            \n",
    "            partitions = extra_partition(X_train,X_test,y_train, n_estimators=trees)\n",
    "            rsvt = fit_rsvt(partitions)\n",
    "            \n",
    "            time_train = time.time() - t\n",
    "\n",
    "            writer.writerow([n_train, trees, time_train])\n",
    "                           \n",
    "            print(\"current progress: \", np.round(i/(len(samples)*len(n_trees))*100),\"%\")\n",
    "            i+=1"
   ]
  },
  {
   "cell_type": "markdown",
   "metadata": {},
   "source": [
    "# Dimensionality"
   ]
  },
  {
   "cell_type": "code",
   "execution_count": 25,
   "metadata": {},
   "outputs": [],
   "source": [
    "dim_list = [100,200,500]"
   ]
  },
  {
   "cell_type": "code",
   "execution_count": 26,
   "metadata": {},
   "outputs": [
    {
     "name": "stdout",
     "output_type": "stream",
     "text": [
      "current progress:  100.0 %\n"
     ]
    }
   ],
   "source": [
    "with open(\"Time/dimensions.csv\", \"w\") as csv_file:\n",
    "    writer = csv.writer(csv_file, delimiter=',')\n",
    "    writer.writerow(['sample size','dimensions', 'time'])\n",
    "    \n",
    "    i=1\n",
    "    for n in samples:\n",
    "        \n",
    "        n_train = 2/3*n\n",
    "        \n",
    "        for dim in dim_list:\n",
    "            clear_output(wait=True)\n",
    "\n",
    "            X, y = datasets.make_classification(n_samples=n, n_features=dim)\n",
    "    \n",
    "            X_train,X_test, y_train,y_test = train_test_split(X,y,test_size=1/3)\n",
    "                        \n",
    "            # Rescale input space to [0,1] range\n",
    "            scaler = preprocessing.MinMaxScaler()\n",
    "            X_train = scaler.fit_transform(X_train)\n",
    "            X_test = scaler.transform(X_test)\n",
    "            \n",
    "            t = time.time()\n",
    "            \n",
    "            partitions = extra_partition(X_train,X_test,y_train, n_estimators=1)\n",
    "            rsvt = fit_rsvt(partitions)\n",
    "            \n",
    "            time_train = time.time() - t\n",
    "\n",
    "            writer.writerow([n_train, dim, time_train])\n",
    "                           \n",
    "            print(\"current progress: \", np.round(i/(len(samples)*len(dim_list))*100),\"%\")\n",
    "            i+=1"
   ]
  },
  {
   "cell_type": "markdown",
   "metadata": {},
   "source": [
    "# Number of Classes"
   ]
  },
  {
   "cell_type": "code",
   "execution_count": 27,
   "metadata": {},
   "outputs": [],
   "source": [
    "n_classes = [4,10,24]"
   ]
  },
  {
   "cell_type": "code",
   "execution_count": 29,
   "metadata": {},
   "outputs": [
    {
     "name": "stdout",
     "output_type": "stream",
     "text": [
      "current progress:  100.0 %\n"
     ]
    }
   ],
   "source": [
    "with open(\"Time/classes.csv\", \"w\") as csv_file:\n",
    "    writer = csv.writer(csv_file, delimiter=',')\n",
    "    writer.writerow([\"sample size\", \"classes\", \"time\"])     \n",
    "    \n",
    "    i=1\n",
    "    for n in samples:\n",
    "        \n",
    "        n_train = 2/3*n\n",
    "        \n",
    "        for k in n_classes:\n",
    "            clear_output(wait=True)\n",
    "        \n",
    "            X, y = datasets.make_classification(n_samples=n, n_classes=k, n_informative=k, n_features=2*k)\n",
    "    \n",
    "            X_train,X_test, y_train,y_test = train_test_split(X,y,test_size=1/3)\n",
    "        \n",
    "            # Rescale input space to [0,1] range\n",
    "            scaler = preprocessing.MinMaxScaler()\n",
    "            X_train = scaler.fit_transform(X_train)\n",
    "            X_test = scaler.transform(X_test)\n",
    "            \n",
    "            t = time.time()\n",
    "            \n",
    "            partition = extra_partition(X_train,X_test, y_train, n_estimators=1)\n",
    "            rsvt = fit_rsvt(partition)\n",
    "            \n",
    "            time_model = time.time() - t\n",
    "\n",
    "            writer.writerow([n_train, k, time_model])\n",
    "        \n",
    "            print(\"current progress: \", np.round(i/(len(samples)*len(n_classes))*100),\"%\")\n",
    "            i+=1"
   ]
  },
  {
   "cell_type": "code",
   "execution_count": null,
   "metadata": {},
   "outputs": [],
   "source": []
  }
 ],
 "metadata": {
  "kernelspec": {
   "display_name": "Python 3",
   "language": "python",
   "name": "python3"
  },
  "language_info": {
   "codemirror_mode": {
    "name": "ipython",
    "version": 3
   },
   "file_extension": ".py",
   "mimetype": "text/x-python",
   "name": "python",
   "nbconvert_exporter": "python",
   "pygments_lexer": "ipython3",
   "version": "3.7.6"
  }
 },
 "nbformat": 4,
 "nbformat_minor": 4
}
